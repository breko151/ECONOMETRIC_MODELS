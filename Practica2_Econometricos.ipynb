{
 "cells": [
  {
   "cell_type": "markdown",
   "metadata": {
    "cell_id": "e344319af92c4c34a0c1ef56d30168b6",
    "deepnote_cell_type": "markdown"
   },
   "source": [
    "# PROPIEDADES DE LOS ESTIMADORES OLS"
   ]
  },
  {
   "cell_type": "markdown",
   "metadata": {
    "cell_id": "3707b7c5714b426987c2577eb0da4938",
    "deepnote_cell_type": "markdown"
   },
   "source": [
    "Nava del Río José Antonio\n",
    "Ojeda Contreras Braulio Melquisedec \n",
    "Suárez Pérez Juan Pablo\n",
    "Vázquez Portuguez José Antonio "
   ]
  },
  {
   "cell_type": "markdown",
   "metadata": {
    "cell_id": "10a903a5f3984d49a79aabc537a957b8",
    "deepnote_cell_type": "markdown"
   },
   "source": [
    "Con la finalidad de observar las propiedades teóricas de los estimadores OLS se cumplen en la práctica, realice las siguientes tareas:\n",
    "1. Compruebe que los estimadores OLS no tienen sezgo.\n",
    "2. Compruebe que las varianzas de los estimadores OLS son cercanas a sus valores teóricos.\n",
    "3. Grafique los histogramas de los estimadores OLS."
   ]
  },
  {
   "cell_type": "markdown",
   "metadata": {},
   "source": []
  },
  {
   "cell_type": "code",
   "execution_count": 1,
   "metadata": {
    "cell_id": "1691e685f116415297b77e08f9c24179",
    "deepnote_cell_type": "code",
    "deepnote_to_be_reexecuted": false,
    "execution_millis": 15,
    "execution_start": 1695090059024,
    "source_hash": "61e6c33b"
   },
   "outputs": [],
   "source": [
    "# Importamos las bibliotecas necesarias...\n",
    "import numpy as np\n",
    "import pandas as pd\n",
    "import matplotlib.pyplot as plt"
   ]
  },
  {
   "cell_type": "code",
   "execution_count": 2,
   "metadata": {
    "cell_id": "5343fab165e84f779b51d03c992d9fe1",
    "deepnote_cell_type": "code",
    "deepnote_to_be_reexecuted": false,
    "execution_millis": 28,
    "execution_start": 1695090059047,
    "source_hash": "c7c3e111"
   },
   "outputs": [],
   "source": [
    "# Función para generar un modelo lineal de una variable.\n",
    "def generate_model():\n",
    "    \"\"\"\n",
    "        Modelo lineal de una variable.\n",
    "        Entrada: \n",
    "        Salida: [m,b] m (pendiente), b (intersección con eje y)\n",
    "    \"\"\"\n",
    "    m = np.random.normal(0, 1)\n",
    "    b = np.random.normal(0, 1)\n",
    "  \n",
    "    return [m, b]"
   ]
  },
  {
   "cell_type": "code",
   "execution_count": 3,
   "metadata": {
    "cell_id": "bdc52f29efc64340b3b240b2ec1487c7",
    "deepnote_cell_type": "code",
    "deepnote_to_be_reexecuted": false,
    "execution_millis": 15,
    "execution_start": 1695090059047,
    "source_hash": "c8107437"
   },
   "outputs": [],
   "source": [
    "# Función para implementar un modelo lineal.\n",
    "def lineal_model(m, b, x):\n",
    "    \"\"\"\n",
    "        Implementación del modelo\n",
    "        Entrada: m (pendiente), b (intersección con eje y), x (Vector X)\n",
    "        Salida: m * x + b (Vector Y)\n",
    "    \"\"\"\n",
    "    return m * x + b"
   ]
  },
  {
   "cell_type": "code",
   "execution_count": 4,
   "metadata": {
    "cell_id": "7ab81c0e184e4367bbaac64be1bcc955",
    "deepnote_cell_type": "code",
    "deepnote_to_be_reexecuted": false,
    "execution_millis": 15,
    "execution_start": 1695090059048,
    "source_hash": "854694b9"
   },
   "outputs": [],
   "source": [
    "# Parámetros de incialización del modelo lineal.\n",
    "N = 200\n",
    "min_x = 0\n",
    "max_x = 21"
   ]
  },
  {
   "cell_type": "code",
   "execution_count": 5,
   "metadata": {
    "cell_id": "e059672562454cee945f11cbeb0dedba",
    "deepnote_cell_type": "code",
    "deepnote_to_be_reexecuted": false,
    "execution_millis": 15,
    "execution_start": 1695090059049,
    "source_hash": "873e78de"
   },
   "outputs": [],
   "source": [
    "# Generación del modelo lineal.\n",
    "m, b = generate_model()\n",
    "# Implementación del modelo lineal. \n",
    "x = np.linspace(min_x, max_x, N)\n",
    "lm = lineal_model(m, b, x)"
   ]
  },
  {
   "cell_type": "code",
   "execution_count": 6,
   "metadata": {
    "cell_id": "d4a23d3937104b3dab8bbad8b49067e5",
    "deepnote_cell_type": "code",
    "deepnote_to_be_reexecuted": false,
    "execution_millis": 588,
    "execution_start": 1695090059053,
    "source_hash": "a8c9db89"
   },
   "outputs": [
    {
     "data": {
      "image/png": "[encoded data removed]",
      "text/plain": [
       "<Figure size 432x288 with 1 Axes>"
      ]
     },
     "metadata": {
      "needs_background": "light"
     },
     "output_type": "display_data"
    }
   ],
   "source": [
    "# Generamos puntos para graficar la población.\n",
    "y = lm + np.random.normal(0, 1, N)\n",
    "# Grafica el modelo.\n",
    "plt.scatter(x, y, label=\"Población\")\n",
    "plt.plot(x, lm, label=\"Modelo lineal subyacente\", color=\"black\")\n",
    "plt.legend()\n",
    "plt.title(\"Modelo subyacente y población\")\n",
    "plt.show()"
   ]
  },
  {
   "cell_type": "code",
   "execution_count": 7,
   "metadata": {
    "cell_id": "4088974169254c4fb8bf6b898c9f289a",
    "deepnote_cell_type": "code",
    "deepnote_to_be_reexecuted": false,
    "execution_millis": 9,
    "execution_start": 1695090059576,
    "source_hash": "4bc4f024"
   },
   "outputs": [],
   "source": [
    "# Generar el muestreo de la población.\n",
    "def gen_sampling(min_x, max_x, m, b, n_sample = 50):\n",
    "    x_sample = np.linspace(min_x, max_x, n_sample)\n",
    "    lm = lineal_model(m, b, x_sample)\n",
    "    y_sample = lm + np.random.normal(0, 1, n_sample)\n",
    "    return [x_sample, y_sample]"
   ]
  },
  {
   "cell_type": "code",
   "execution_count": 8,
   "metadata": {
    "cell_id": "0af057803c8f46b09d34baea3720c102",
    "deepnote_cell_type": "code",
    "deepnote_to_be_reexecuted": false,
    "execution_millis": 10,
    "execution_start": 1695090059577,
    "source_hash": "63133be7"
   },
   "outputs": [],
   "source": [
    "# Ajuste de estimadores del modelo lineal.\n",
    "def adjust_lineal_model(X, y):\n",
    "    \"\"\"\n",
    "        Ajuste del modelo lineal.\n",
    "        Entrada: X (Muestra de X), y (muestra de Y).\n",
    "        Salida: m_adj (Estimador m), b_adj (Estimador b).\n",
    "    \"\"\"\n",
    "    m_adj = np.cov(X, y)[0, 1] / np.var(X)\n",
    "    b_adj = np.mean(y) - m_adj * np.mean(X)\n",
    "    return [m_adj, b_adj]"
   ]
  },
  {
   "cell_type": "code",
   "execution_count": 9,
   "metadata": {
    "cell_id": "d6de579de76840efba0ecab4d7047c52",
    "deepnote_cell_type": "code",
    "deepnote_to_be_reexecuted": false,
    "execution_millis": 167,
    "execution_start": 1695090059577,
    "source_hash": "e6ccb18b"
   },
   "outputs": [],
   "source": [
    "nom_samples = 1000\n",
    "sampling_values = list()\n",
    "for i in range(nom_samples):\n",
    "    x_sample, y_sample = gen_sampling(min_x, max_x, m, b)\n",
    "    m_adj, b_adj = adjust_lineal_model(x_sample, y_sample)\n",
    "    sampling_values.append([x_sample, y_sample, m_adj, b_adj])"
   ]
  },
  {
   "cell_type": "code",
   "execution_count": 10,
   "metadata": {
    "cell_id": "f8a6ac99fb7c43c2a039b2e0f368010a",
    "deepnote_cell_type": "code",
    "deepnote_to_be_reexecuted": false,
    "execution_millis": 139,
    "execution_start": 1695090059788,
    "source_hash": "1e961720"
   },
   "outputs": [
    {
     "name": "stdout",
     "output_type": "stream",
     "text": [
      "El promedio  de los estimadores de m y m son cercanos, m: -0.9970670467347769 y promedio m: -1.0175193354231942\n",
      "El promedio  de los estimadores de b y b son cercanos, b: 0.3226821774693364 y promedio b: 0.5340412515207912\n"
     ]
    }
   ],
   "source": [
    "# Compruebe que los estimadores OLS no tienen sesgo\n",
    "m_adjs = list()\n",
    "b_adjs = list()\n",
    "for i in sampling_values:\n",
    "    m_adjs.append(i[-2])\n",
    "    b_adjs.append(i[-1])\n",
    "m_mean = np.array(m_adjs).mean()\n",
    "b_mean = np.array(b_adjs).mean()\n",
    "assert np.isclose(m_mean, m, atol = 1e-1), 'Error: La el promedio estimadores m de la implementación ' + str(m_mean) +  ' no se acerca a ' + str(m)\n",
    "print(\"El promedio  de los estimadores de m y m son cercanos, m: \" + str(m) + \" y promedio m: \" +  str(m_mean))\n",
    "assert np.isclose(b_mean, b, atol = 9e-1), 'Error: La el promedio estimadores b de la implementación ' + str(b_mean) +  ' no se acerca a ' + str(b)\n",
    "print(\"El promedio  de los estimadores de b y b son cercanos, b: \" + str(b) + \" y promedio b: \" +  str(b_mean))"
   ]
  },
  {
   "cell_type": "code",
   "execution_count": 11,
   "metadata": {
    "cell_id": "8548703e5f6b4f92b179cf04ed8ad874",
    "deepnote_cell_type": "code",
    "deepnote_to_be_reexecuted": false,
    "execution_millis": 52,
    "execution_start": 1695090059789,
    "source_hash": "5f18050b"
   },
   "outputs": [
    {
     "data": {
      "text/plain": [
       "<matplotlib.legend.Legend at 0x1e75ab55b50>"
      ]
     },
     "execution_count": 11,
     "metadata": {},
     "output_type": "execute_result"
    },
    {
     "data": {
      "image/png": "[encoded data removed]",
      "text/plain": [
       "<Figure size 432x288 with 1 Axes>"
      ]
     },
     "metadata": {
      "needs_background": "light"
     },
     "output_type": "display_data"
    }
   ],
   "source": [
    "# Grafique los histogramas de los estimadores OLS\n",
    "plt.hist(b_adjs)\n",
    "plt.title(\"Estimadores b, el promedio de los estimadores de b: \" + str(b_mean))\n",
    "plt.axvline(b_mean, color='red', linestyle='dashed', linewidth=2, label=f'b_mean = {b_mean:.3f}')\n",
    "plt.axvline(b, color='green', linestyle='dashed', linewidth=2, label=f'b = {b:.3f}')\n",
    "plt.legend()"
   ]
  },
  {
   "cell_type": "code",
   "execution_count": 12,
   "metadata": {
    "cell_id": "fdcb566a094141e9aa649eb420d5cade",
    "deepnote_cell_type": "code",
    "deepnote_to_be_reexecuted": false,
    "execution_millis": 245,
    "execution_start": 1695090060097,
    "source_hash": "dcb91989"
   },
   "outputs": [
    {
     "data": {
      "text/plain": [
       "<matplotlib.legend.Legend at 0x1e75abf21c0>"
      ]
     },
     "execution_count": 12,
     "metadata": {},
     "output_type": "execute_result"
    },
    {
     "data": {
      "image/png": "[encoded data removed]",
      "text/plain": [
       "<Figure size 432x288 with 1 Axes>"
      ]
     },
     "metadata": {
      "needs_background": "light"
     },
     "output_type": "display_data"
    }
   ],
   "source": [
    "# Grafique los histogramas de los estimadores OLS\n",
    "plt.hist(m_adjs)\n",
    "plt.title(\"Estimadores m, el promedio de los estimadores de m: \" + str(m_mean))\n",
    "plt.axvline(m_mean, color='red', linestyle='dashed', linewidth=2, label=f'm_mean = {m_mean:.3f}')\n",
    "plt.axvline(m, color='green', linestyle='dashed', linewidth=2, label=f'm = {m:.3f}')\n",
    "plt.legend()"
   ]
  },
  {
   "cell_type": "code",
   "execution_count": 13,
   "metadata": {
    "cell_id": "9e028f3ab8074fdbb210910500edfb44",
    "deepnote_cell_type": "code",
    "deepnote_to_be_reexecuted": false,
    "execution_millis": 642,
    "execution_start": 1695090060448,
    "source_hash": "bad2fe50"
   },
   "outputs": [
    {
     "name": "stdout",
     "output_type": "stream",
     "text": [
      "0.07943056921473521\n",
      "0.0\n",
      "0.0005348859879780149\n",
      "0.0\n"
     ]
    }
   ],
   "source": [
    "# Compruebe que las varianzas de los estimadores OLS son cercanas a sus valores teóricos.\n",
    "b_var = b_adj.var()\n",
    "m_var = m_adj.var()\n",
    "var_b1 = list()\n",
    "var_b0 = list()\n",
    "for iteration_value in sampling_values:\n",
    "    y_adj = lineal_model(iteration_value[2], iteration_value[3], iteration_value[0])\n",
    "    u_estimator = iteration_value[1] - y_adj\n",
    "    ssr = np.sum(u_estimator ** 2)\n",
    "    x_mean = np.mean(iteration_value[0])\n",
    "    sst_x = np.sum((iteration_value[0] - x_mean) ** 2)\n",
    "    var_est = ssr / (len(u_estimator) - 2)\n",
    "    var_b1.append(var_est / sst_x)\n",
    "    var_b0.append(var_est / (len(u_estimator) * sst_x) * np.sum(iteration_value[0] ** 2))\n",
    "mean_var_b1 = np.mean(var_b1)\n",
    "mean_var_b0 = np.mean(var_b0)\n",
    "print(mean_var_b0)\n",
    "print(b_var)\n",
    "print(mean_var_b1)\n",
    "print(m_var)"
   ]
  }
 ],
 "metadata": {
  "deepnote": {},
  "deepnote_execution_queue": [],
  "deepnote_notebook_id": "6f4e40409ba14bfbb6339052402baeb3",
  "deepnote_persisted_session": {
   "createdAt": "2023-09-18T15:16:41.449Z"
  },
  "kernelspec": {
   "display_name": "Python 3 (ipykernel)",
   "language": "python",
   "name": "python3"
  },
  "language_info": {
   "codemirror_mode": {
    "name": "ipython",
    "version": 3
   },
   "file_extension": ".py",
   "mimetype": "text/x-python",
   "name": "python",
   "nbconvert_exporter": "python",
   "pygments_lexer": "ipython3",
   "version": "3.9.12"
  }
 },
 "nbformat": 4,
 "nbformat_minor": 1
}
