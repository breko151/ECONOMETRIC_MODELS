{
 "cells": [
  {
   "cell_type": "markdown",
   "id": "74827598",
   "metadata": {},
   "source": [
    "# VARIANCE"
   ]
  },
  {
   "cell_type": "markdown",
   "id": "367d166a",
   "metadata": {},
   "source": [
    "**Authors:**  \n",
    "- Nava del Río José Antonio  \n",
    "- Ojeda Contreras Braulio Melquisedec   \n",
    "- Suárez Pérez Juan Pablo  \n",
    "- Vázquez Portuguez José Antonio  \n",
    "\n",
    "**Date:** 01/11/2023"
   ]
  },
  {
   "cell_type": "markdown",
   "id": "54c0eb8d",
   "metadata": {},
   "source": [
    "## Instructions\n",
    "In order to explore the operation of the T-test, perform the following tasks:\n",
    "1. Implement the t test in its one-sided and two-sided versions.  \n",
    "2. Generate a graph with the appropriate T distribution (degrees of freedom) for the test case in the first part and plot next to it the calculated values for each t of each model parameter and its p-value. Mark in red those values of t for which the null hypothesis is accepted and in green those cases where it is rejected."
   ]
  },
  {
   "cell_type": "markdown",
   "id": "92073b4b",
   "metadata": {},
   "source": [
    "### About Dataset\n",
    "**Description:**  \n",
    "\n",
    "The Student Performance Dataset is a dataset designed to examine the factors influencing academic student performance. The dataset consists of 10,000 student records, with each record containing information about various predictors and a performance index.  \n",
    "\n",
    "**Variables:**\n",
    "- Hours Studied: The total number of hours spent studying by each student.  \n",
    "- Previous Scores: The scores obtained by students in previous tests.  \n",
    "- Extracurricular Activities: Whether the student participates in extracurricular activities (Yes or No).  \n",
    "- Sleep Hours: The average number of hours of sleep the student had per day.  \n",
    "- Sample Question Papers Practiced: The number of sample question papers the student practiced.  \n",
    "\n",
    "**Target Variable:**  \n",
    "- Performance Index: A measure of the overall performance of each student. The performance index represents the student's academic performance and has been rounded to the nearest integer. The index ranges from 10 to 100, with higher values indicating better performance.  \n",
    "\n",
    "The dataset aims to provide insights into the relationship between the predictor variables and the performance index. Researchers and data analysts can use this dataset to explore the impact of studying hours, previous scores, extracurricular activities, sleep hours, and sample question papers on student performance."
   ]
  },
  {
   "cell_type": "markdown",
   "id": "8b74a5cf",
   "metadata": {},
   "source": [
    "### Env"
   ]
  },
  {
   "cell_type": "code",
   "execution_count": 1,
   "id": "d35dca70",
   "metadata": {},
   "outputs": [],
   "source": [
    "# Libraries needed.\n",
    "import numpy as np\n",
    "import pandas as pd\n",
    "import matplotlib.pyplot as plt\n",
    "from sklearn.model_selection import train_test_split\n",
    "from sklearn.linear_model import LinearRegression\n",
    "from sklearn import preprocessing\n",
    "from scipy.stats import norm\n",
    "from scipy.stats import t"
   ]
  },
  {
   "cell_type": "code",
   "execution_count": 2,
   "id": "ec22760e",
   "metadata": {},
   "outputs": [],
   "source": [
    "# Dataset.\n",
    "path = \"./datasets/students_performance.csv\"\n",
    "# Getting data.\n",
    "df = pd.read_csv(path)"
   ]
  },
  {
   "cell_type": "markdown",
   "id": "0ce0ba57",
   "metadata": {},
   "source": [
    "### Viewing Data"
   ]
  },
  {
   "cell_type": "code",
   "execution_count": 3,
   "id": "97998067",
   "metadata": {},
   "outputs": [
    {
     "name": "stdout",
     "output_type": "stream",
     "text": [
      "<class 'pandas.core.frame.DataFrame'>\n",
      "RangeIndex: 10000 entries, 0 to 9999\n",
      "Data columns (total 6 columns):\n",
      " #   Column                            Non-Null Count  Dtype  \n",
      "---  ------                            --------------  -----  \n",
      " 0   Hours Studied                     10000 non-null  int64  \n",
      " 1   Previous Scores                   10000 non-null  int64  \n",
      " 2   Extracurricular Activities        10000 non-null  object \n",
      " 3   Sleep Hours                       10000 non-null  int64  \n",
      " 4   Sample Question Papers Practiced  10000 non-null  int64  \n",
      " 5   Performance Index                 10000 non-null  float64\n",
      "dtypes: float64(1), int64(4), object(1)\n",
      "memory usage: 468.9+ KB\n"
     ]
    }
   ],
   "source": [
    "# Info.\n",
    "df.info()"
   ]
  },
  {
   "cell_type": "code",
   "execution_count": 4,
   "id": "e5d07758",
   "metadata": {},
   "outputs": [
    {
     "data": {
      "text/html": [
       "<div>\n",
       "<style scoped>\n",
       "    .dataframe tbody tr th:only-of-type {\n",
       "        vertical-align: middle;\n",
       "    }\n",
       "\n",
       "    .dataframe tbody tr th {\n",
       "        vertical-align: top;\n",
       "    }\n",
       "\n",
       "    .dataframe thead th {\n",
       "        text-align: right;\n",
       "    }\n",
       "</style>\n",
       "<table border=\"1\" class=\"dataframe\">\n",
       "  <thead>\n",
       "    <tr style=\"text-align: right;\">\n",
       "      <th></th>\n",
       "      <th>Hours Studied</th>\n",
       "      <th>Previous Scores</th>\n",
       "      <th>Extracurricular Activities</th>\n",
       "      <th>Sleep Hours</th>\n",
       "      <th>Sample Question Papers Practiced</th>\n",
       "      <th>Performance Index</th>\n",
       "    </tr>\n",
       "  </thead>\n",
       "  <tbody>\n",
       "    <tr>\n",
       "      <th>0</th>\n",
       "      <td>7</td>\n",
       "      <td>99</td>\n",
       "      <td>Yes</td>\n",
       "      <td>9</td>\n",
       "      <td>1</td>\n",
       "      <td>91.0</td>\n",
       "    </tr>\n",
       "    <tr>\n",
       "      <th>1</th>\n",
       "      <td>4</td>\n",
       "      <td>82</td>\n",
       "      <td>No</td>\n",
       "      <td>4</td>\n",
       "      <td>2</td>\n",
       "      <td>65.0</td>\n",
       "    </tr>\n",
       "    <tr>\n",
       "      <th>2</th>\n",
       "      <td>8</td>\n",
       "      <td>51</td>\n",
       "      <td>Yes</td>\n",
       "      <td>7</td>\n",
       "      <td>2</td>\n",
       "      <td>45.0</td>\n",
       "    </tr>\n",
       "    <tr>\n",
       "      <th>3</th>\n",
       "      <td>5</td>\n",
       "      <td>52</td>\n",
       "      <td>Yes</td>\n",
       "      <td>5</td>\n",
       "      <td>2</td>\n",
       "      <td>36.0</td>\n",
       "    </tr>\n",
       "    <tr>\n",
       "      <th>4</th>\n",
       "      <td>7</td>\n",
       "      <td>75</td>\n",
       "      <td>No</td>\n",
       "      <td>8</td>\n",
       "      <td>5</td>\n",
       "      <td>66.0</td>\n",
       "    </tr>\n",
       "  </tbody>\n",
       "</table>\n",
       "</div>"
      ],
      "text/plain": [
       "   Hours Studied  Previous Scores Extracurricular Activities  Sleep Hours  \\\n",
       "0              7               99                        Yes            9   \n",
       "1              4               82                         No            4   \n",
       "2              8               51                        Yes            7   \n",
       "3              5               52                        Yes            5   \n",
       "4              7               75                         No            8   \n",
       "\n",
       "   Sample Question Papers Practiced  Performance Index  \n",
       "0                                 1               91.0  \n",
       "1                                 2               65.0  \n",
       "2                                 2               45.0  \n",
       "3                                 2               36.0  \n",
       "4                                 5               66.0  "
      ]
     },
     "execution_count": 4,
     "metadata": {},
     "output_type": "execute_result"
    }
   ],
   "source": [
    "# Visualization of data.\n",
    "df.head(5)"
   ]
  },
  {
   "cell_type": "code",
   "execution_count": 5,
   "id": "c9e51565",
   "metadata": {},
   "outputs": [
    {
     "data": {
      "text/html": [
       "<div>\n",
       "<style scoped>\n",
       "    .dataframe tbody tr th:only-of-type {\n",
       "        vertical-align: middle;\n",
       "    }\n",
       "\n",
       "    .dataframe tbody tr th {\n",
       "        vertical-align: top;\n",
       "    }\n",
       "\n",
       "    .dataframe thead th {\n",
       "        text-align: right;\n",
       "    }\n",
       "</style>\n",
       "<table border=\"1\" class=\"dataframe\">\n",
       "  <thead>\n",
       "    <tr style=\"text-align: right;\">\n",
       "      <th></th>\n",
       "      <th>Hours Studied</th>\n",
       "      <th>Previous Scores</th>\n",
       "      <th>Sleep Hours</th>\n",
       "      <th>Sample Question Papers Practiced</th>\n",
       "      <th>Performance Index</th>\n",
       "    </tr>\n",
       "  </thead>\n",
       "  <tbody>\n",
       "    <tr>\n",
       "      <th>count</th>\n",
       "      <td>10000.000000</td>\n",
       "      <td>10000.000000</td>\n",
       "      <td>10000.000000</td>\n",
       "      <td>10000.000000</td>\n",
       "      <td>10000.000000</td>\n",
       "    </tr>\n",
       "    <tr>\n",
       "      <th>mean</th>\n",
       "      <td>4.992900</td>\n",
       "      <td>69.445700</td>\n",
       "      <td>6.530600</td>\n",
       "      <td>4.583300</td>\n",
       "      <td>55.224800</td>\n",
       "    </tr>\n",
       "    <tr>\n",
       "      <th>std</th>\n",
       "      <td>2.589309</td>\n",
       "      <td>17.343152</td>\n",
       "      <td>1.695863</td>\n",
       "      <td>2.867348</td>\n",
       "      <td>19.212558</td>\n",
       "    </tr>\n",
       "    <tr>\n",
       "      <th>min</th>\n",
       "      <td>1.000000</td>\n",
       "      <td>40.000000</td>\n",
       "      <td>4.000000</td>\n",
       "      <td>0.000000</td>\n",
       "      <td>10.000000</td>\n",
       "    </tr>\n",
       "    <tr>\n",
       "      <th>25%</th>\n",
       "      <td>3.000000</td>\n",
       "      <td>54.000000</td>\n",
       "      <td>5.000000</td>\n",
       "      <td>2.000000</td>\n",
       "      <td>40.000000</td>\n",
       "    </tr>\n",
       "    <tr>\n",
       "      <th>50%</th>\n",
       "      <td>5.000000</td>\n",
       "      <td>69.000000</td>\n",
       "      <td>7.000000</td>\n",
       "      <td>5.000000</td>\n",
       "      <td>55.000000</td>\n",
       "    </tr>\n",
       "    <tr>\n",
       "      <th>75%</th>\n",
       "      <td>7.000000</td>\n",
       "      <td>85.000000</td>\n",
       "      <td>8.000000</td>\n",
       "      <td>7.000000</td>\n",
       "      <td>71.000000</td>\n",
       "    </tr>\n",
       "    <tr>\n",
       "      <th>max</th>\n",
       "      <td>9.000000</td>\n",
       "      <td>99.000000</td>\n",
       "      <td>9.000000</td>\n",
       "      <td>9.000000</td>\n",
       "      <td>100.000000</td>\n",
       "    </tr>\n",
       "  </tbody>\n",
       "</table>\n",
       "</div>"
      ],
      "text/plain": [
       "       Hours Studied  Previous Scores   Sleep Hours  \\\n",
       "count   10000.000000     10000.000000  10000.000000   \n",
       "mean        4.992900        69.445700      6.530600   \n",
       "std         2.589309        17.343152      1.695863   \n",
       "min         1.000000        40.000000      4.000000   \n",
       "25%         3.000000        54.000000      5.000000   \n",
       "50%         5.000000        69.000000      7.000000   \n",
       "75%         7.000000        85.000000      8.000000   \n",
       "max         9.000000        99.000000      9.000000   \n",
       "\n",
       "       Sample Question Papers Practiced  Performance Index  \n",
       "count                      10000.000000       10000.000000  \n",
       "mean                           4.583300          55.224800  \n",
       "std                            2.867348          19.212558  \n",
       "min                            0.000000          10.000000  \n",
       "25%                            2.000000          40.000000  \n",
       "50%                            5.000000          55.000000  \n",
       "75%                            7.000000          71.000000  \n",
       "max                            9.000000         100.000000  "
      ]
     },
     "execution_count": 5,
     "metadata": {},
     "output_type": "execute_result"
    }
   ],
   "source": [
    "# Data resume. \n",
    "df.describe()"
   ]
  },
  {
   "cell_type": "markdown",
   "id": "7a8aad70",
   "metadata": {},
   "source": [
    "### Data transformation"
   ]
  },
  {
   "cell_type": "code",
   "execution_count": 6,
   "id": "762a6562",
   "metadata": {},
   "outputs": [
    {
     "data": {
      "text/html": [
       "<div>\n",
       "<style scoped>\n",
       "    .dataframe tbody tr th:only-of-type {\n",
       "        vertical-align: middle;\n",
       "    }\n",
       "\n",
       "    .dataframe tbody tr th {\n",
       "        vertical-align: top;\n",
       "    }\n",
       "\n",
       "    .dataframe thead th {\n",
       "        text-align: right;\n",
       "    }\n",
       "</style>\n",
       "<table border=\"1\" class=\"dataframe\">\n",
       "  <thead>\n",
       "    <tr style=\"text-align: right;\">\n",
       "      <th></th>\n",
       "      <th>Hours Studied</th>\n",
       "      <th>Previous Scores</th>\n",
       "      <th>Sleep Hours</th>\n",
       "      <th>Sample Question Papers Practiced</th>\n",
       "      <th>Performance Index</th>\n",
       "      <th>Extracurricular Activities_No</th>\n",
       "      <th>Extracurricular Activities_Yes</th>\n",
       "    </tr>\n",
       "  </thead>\n",
       "  <tbody>\n",
       "    <tr>\n",
       "      <th>0</th>\n",
       "      <td>7</td>\n",
       "      <td>99</td>\n",
       "      <td>9</td>\n",
       "      <td>1</td>\n",
       "      <td>91.0</td>\n",
       "      <td>0</td>\n",
       "      <td>1</td>\n",
       "    </tr>\n",
       "    <tr>\n",
       "      <th>1</th>\n",
       "      <td>4</td>\n",
       "      <td>82</td>\n",
       "      <td>4</td>\n",
       "      <td>2</td>\n",
       "      <td>65.0</td>\n",
       "      <td>1</td>\n",
       "      <td>0</td>\n",
       "    </tr>\n",
       "    <tr>\n",
       "      <th>2</th>\n",
       "      <td>8</td>\n",
       "      <td>51</td>\n",
       "      <td>7</td>\n",
       "      <td>2</td>\n",
       "      <td>45.0</td>\n",
       "      <td>0</td>\n",
       "      <td>1</td>\n",
       "    </tr>\n",
       "    <tr>\n",
       "      <th>3</th>\n",
       "      <td>5</td>\n",
       "      <td>52</td>\n",
       "      <td>5</td>\n",
       "      <td>2</td>\n",
       "      <td>36.0</td>\n",
       "      <td>0</td>\n",
       "      <td>1</td>\n",
       "    </tr>\n",
       "    <tr>\n",
       "      <th>4</th>\n",
       "      <td>7</td>\n",
       "      <td>75</td>\n",
       "      <td>8</td>\n",
       "      <td>5</td>\n",
       "      <td>66.0</td>\n",
       "      <td>1</td>\n",
       "      <td>0</td>\n",
       "    </tr>\n",
       "  </tbody>\n",
       "</table>\n",
       "</div>"
      ],
      "text/plain": [
       "   Hours Studied  Previous Scores  Sleep Hours  \\\n",
       "0              7               99            9   \n",
       "1              4               82            4   \n",
       "2              8               51            7   \n",
       "3              5               52            5   \n",
       "4              7               75            8   \n",
       "\n",
       "   Sample Question Papers Practiced  Performance Index  \\\n",
       "0                                 1               91.0   \n",
       "1                                 2               65.0   \n",
       "2                                 2               45.0   \n",
       "3                                 2               36.0   \n",
       "4                                 5               66.0   \n",
       "\n",
       "   Extracurricular Activities_No  Extracurricular Activities_Yes  \n",
       "0                              0                               1  \n",
       "1                              1                               0  \n",
       "2                              0                               1  \n",
       "3                              0                               1  \n",
       "4                              1                               0  "
      ]
     },
     "execution_count": 6,
     "metadata": {},
     "output_type": "execute_result"
    }
   ],
   "source": [
    "# Using one hot encoding for 'Extracurricular Activities'.\n",
    "df_encoded = pd.get_dummies(df, columns=['Extracurricular Activities'])\n",
    "df_encoded['Extracurricular Activities_Yes'] = df_encoded['Extracurricular Activities_Yes'].replace({True: 1, False: 0})\n",
    "df_encoded['Extracurricular Activities_No'] = df_encoded['Extracurricular Activities_No'].replace({True: 1, False: 0})\n",
    "df_encoded.head(5)"
   ]
  },
  {
   "cell_type": "code",
   "execution_count": 7,
   "id": "d3c09b93",
   "metadata": {},
   "outputs": [],
   "source": [
    "# Getting Features and labels.\n",
    "X = df_encoded[[\"Hours Studied\", \"Previous Scores\", \"Sleep Hours\", \"Sample Question Papers Practiced\", \"Extracurricular Activities_No\", \"Extracurricular Activities_Yes\"]]\n",
    "y = df_encoded['Performance Index']"
   ]
  },
  {
   "cell_type": "code",
   "execution_count": 8,
   "id": "545134f0",
   "metadata": {},
   "outputs": [],
   "source": [
    "# Getting train and test.\n",
    "X_train, X_test, y_train, y_test = train_test_split(X, y, test_size=0.2, random_state=42)"
   ]
  },
  {
   "cell_type": "code",
   "execution_count": 9,
   "id": "ddc02a82",
   "metadata": {},
   "outputs": [],
   "source": [
    "# Applying standard scaling.\n",
    "scaler = preprocessing.StandardScaler().fit(X_train) \n",
    "X_train_scaled = scaler.transform(X_train)"
   ]
  },
  {
   "cell_type": "markdown",
   "id": "c7308252",
   "metadata": {},
   "source": [
    "### Linear model"
   ]
  },
  {
   "cell_type": "code",
   "execution_count": 10,
   "id": "1ac37109",
   "metadata": {},
   "outputs": [],
   "source": [
    "# Function to get estimators.\n",
    "def fit_linear_model(X, y):\n",
    "    \"\"\"\n",
    "        Fitting the estimators of linear model.\n",
    "        Arguments:\n",
    "            X: a list of values.\n",
    "            y: a list of values.\n",
    "        Return:\n",
    "            estimators: a list with b_1_est and b_0_est.\n",
    "    \"\"\"\n",
    "    # Creation of ones array.\n",
    "    ones_array = np.ones(X.shape[1])\n",
    "    # Concatenation of arrays.\n",
    "    X = np.hstack([X, np.ones((X.shape[0], 1))])\n",
    "    # Fitting estimators.\n",
    "    estimators = np.linalg.lstsq(X, y, rcond=None)[0]\n",
    "    \n",
    "    return estimators"
   ]
  },
  {
   "cell_type": "code",
   "execution_count": 11,
   "id": "5fd46f0b",
   "metadata": {},
   "outputs": [],
   "source": [
    "# Function to implement a linear model.\n",
    "def linear_model(X, estimators):\n",
    "    \"\"\"\n",
    "        Implementation of linear model.\n",
    "        Arguments:\n",
    "            X: a list of values.\n",
    "            estimators: a list of b.\n",
    "        Returns:\n",
    "            y: a list of values.\n",
    "    \"\"\"\n",
    "    # Creation of ones array.\n",
    "    ones_array = np.ones((len(X), 1))\n",
    "    # Concatenation of arrays.\n",
    "    X = np.hstack((X, ones_array))\n",
    "    # Generation of y.\n",
    "    y = np.dot(X, estimators)\n",
    "    \n",
    "    return y"
   ]
  },
  {
   "cell_type": "code",
   "execution_count": 12,
   "id": "37199ea7",
   "metadata": {},
   "outputs": [],
   "source": [
    "# Function to get some model metrics.\n",
    "def model_metrics(X, y):\n",
    "    \"\"\"\n",
    "        Getting some metrics from any model.\n",
    "        Arguments:\n",
    "            X: a list of features.\n",
    "            y: a list of labels.\n",
    "        Return:\n",
    "            metrics: a list with the next metrics (estimators, SST, SSE, SSR, R^2, variance)\n",
    "    \"\"\"\n",
    "    # Fit model.\n",
    "    estimators = fit_linear_model(X, y)\n",
    "    # Getting predictions.\n",
    "    y_ests = linear_model(X, estimators)\n",
    "    # Getting y_mean\n",
    "    y_mean = np.array(y).mean()\n",
    "    # Getting SST.\n",
    "    sst = np.array([(y_i - y_mean) ** 2 for y_i in y]).sum()\n",
    "    # Getting SSE.\n",
    "    sse = np.array([(y_i_est - y_mean) ** 2 for y_i_est in y_ests]).sum()\n",
    "    # Getting SSR.\n",
    "    ssr = np.array([(y[i] - y_ests[i]) ** 2 for i in range(len(y))]).sum()\n",
    "    # Getting R^2\n",
    "    r_2 = ssr / sst\n",
    "    # Getting variance\n",
    "    variance = ssr / (X.shape[0] - (X.shape[1] + 1))\n",
    "    # Save metrics. \n",
    "    metrics = [estimators, sst, sse, ssr, r_2, variance]\n",
    "    \n",
    "    return metrics"
   ]
  },
  {
   "cell_type": "code",
   "execution_count": 13,
   "id": "b178657c",
   "metadata": {},
   "outputs": [],
   "source": [
    "# Function to get the variance of every estimator.\n",
    "def get_variance(X, y):\n",
    "    \"\"\"\n",
    "        Getting variance of each estimator.\n",
    "        Arguments:\n",
    "            X: a list of features.\n",
    "            y: a list of labels.\n",
    "        Return:\n",
    "            vars_j: a list with var_j of each feature.\n",
    "    \"\"\"\n",
    "    # Vars_j inicialization.\n",
    "    vars_j = list()\n",
    "    for j in range(X.shape[1]):\n",
    "        # Getting features.\n",
    "        X_out_j = np.delete(X, j, axis = 1)\n",
    "        X_j = X[:, j]\n",
    "        # Getting metrics.\n",
    "        _, sst, sse, ssr, r_2, variance = model_metrics(X_out_j, X_j)\n",
    "        # Getting var for each feature.\n",
    "        var_j = variance / (sst * (1 - r_2))\n",
    "        vars_j.append(abs(var_j))\n",
    "        \n",
    "    return vars_j"
   ]
  },
  {
   "cell_type": "code",
   "execution_count": 14,
   "id": "a18fdf1a",
   "metadata": {},
   "outputs": [],
   "source": [
    "# Getting the fitting model.\n",
    "estimators = fit_linear_model(X_train_scaled, y_train)"
   ]
  },
  {
   "cell_type": "code",
   "execution_count": 15,
   "id": "a476a3dc",
   "metadata": {},
   "outputs": [],
   "source": [
    "# Gettin vars of each estimator.\n",
    "vars_j = get_variance(X_train_scaled, y_train)"
   ]
  },
  {
   "cell_type": "code",
   "execution_count": 16,
   "id": "ad0f1da2",
   "metadata": {},
   "outputs": [
    {
     "name": "stdout",
     "output_type": "stream",
     "text": [
      "For feature 0: b_0 =  7.40, var =  0.32\n",
      "For feature 1: b_1 = 17.64, var =  0.51\n",
      "For feature 2: b_2 =  0.81, var =  0.27\n",
      "For feature 3: b_3 =  0.55, var =  0.39\n",
      "For feature 4: b_4 = -0.15, var =  0.00\n",
      "For feature 5: b_5 =  0.15, var =  0.00\n"
     ]
    }
   ],
   "source": [
    "count = 0\n",
    "for var_j, estimator in zip(vars_j, estimators):\n",
    "    print(f'For feature {count}: b_{count} = {estimator:5.2f}, var = {var_j:5.2f}')\n",
    "    count += 1"
   ]
  },
  {
   "cell_type": "markdown",
   "id": "a9b437c0",
   "metadata": {},
   "source": [
    "### Graph"
   ]
  },
  {
   "cell_type": "code",
   "execution_count": 17,
   "id": "3bbd3eba",
   "metadata": {},
   "outputs": [],
   "source": [
    "# Getting Normal Distribution with b_j and vars_j\n",
    "N = 100000\n",
    "# Initializing values.\n",
    "distributions = list()\n",
    "# Getting standard deviation.\n",
    "desv = np.array([np.sqrt(vars_j[i]) for i in range(len(vars_j))])"
   ]
  },
  {
   "cell_type": "code",
   "execution_count": 18,
   "id": "25ac3815",
   "metadata": {
    "scrolled": true
   },
   "outputs": [
    {
     "data": {
      "image/png": "[encoded data removed]",
      "text/plain": [
       "<Figure size 1920x640 with 1 Axes>"
      ]
     },
     "metadata": {},
     "output_type": "display_data"
    }
   ],
   "source": [
    "# Initializing values.\n",
    "%config InlineBackend.print_figure_kwargs = {'bbox_inches': 'tight'}\n",
    "colors = ['red', 'green', 'blue', 'yellow', 'purple', 'orange', 'pink']\n",
    "count = 0\n",
    "# Getting the width of the current cell (in inches).\n",
    "width_cell = plt.rcParams['figure.figsize'][0]\n",
    "# X data\n",
    "x = np.linspace(min(estimators) - 3 * max(desv), max(estimators) + 3 * max(desv), N)\n",
    "for estimator, dev in zip(estimators, desv):\n",
    "    y = norm.pdf(x, estimator, dev)\n",
    "    # Probability density function.\n",
    "    plt.plot(x, y, color=colors[count], label=f'b_{count}={estimator:.2f}, std={dev:.2f}')\n",
    "    plt.axvline(x=estimator, color=colors[count], linestyle='--', label=f'Mean b_{count}: {estimator:.2f}')\n",
    "    plt.gcf().set_size_inches(width_cell * 3, width_cell)\n",
    "    count += 1\n",
    "# Show plot.\n",
    "plt.xlim(min(estimators) - 3 * max(desv), max(estimators) + 3 * max(desv))\n",
    "plt.legend()\n",
    "plt.show()"
   ]
  },
  {
   "cell_type": "markdown",
   "id": "23cf3eb1",
   "metadata": {},
   "source": [
    "### Test t"
   ]
  },
  {
   "cell_type": "code",
   "execution_count": 19,
   "id": "391ce7ae",
   "metadata": {},
   "outputs": [],
   "source": [
    "# Function to implement t-test.\n",
    "def t_test(estimator, desv, n, len_d, alpha=0.05, two_sided=True):\n",
    "    \"\"\"\n",
    "        t-test.\n",
    "        Arguments:\n",
    "            estimators: a float value.\n",
    "            desvs: a float value.\n",
    "            n: size of sample.\n",
    "            len_d: a size of estimators.\n",
    "            alpha: a float value.\n",
    "            two_sided: a boolean value.\n",
    "        Return:\n",
    "            test: a boolean value.\n",
    "            critical_value: a float value.\n",
    "            t_i: a float value.\n",
    "            dof: an integer value.\n",
    "    \"\"\"\n",
    "    # Getting t\n",
    "    t_i = estimator / desv\n",
    "    # Degrees of freedom.\n",
    "    dof = n - len_d - 1\n",
    "    if two_sided:\n",
    "        # Getting critical value.\n",
    "        critical_value = t.ppf(1 - (alpha / 2), dof)\n",
    "        test = np.abs(t_i) > critical_value\n",
    "    else:\n",
    "        # Getting critical value.\n",
    "        critical_value = t.ppf(1 - alpha, dof)\n",
    "        test = t > critical_value\n",
    "        \n",
    "    return [test, critical_value, t_i, dof]"
   ]
  },
  {
   "cell_type": "code",
   "execution_count": 20,
   "id": "ca166982",
   "metadata": {},
   "outputs": [
    {
     "name": "stdout",
     "output_type": "stream",
     "text": [
      "For feature 0, Critical Value: 1.96, t value:                     13.02. Result test: True\n",
      "For feature 1, Critical Value: 1.96, t value:                     24.60. Result test: True\n",
      "For feature 2, Critical Value: 1.96, t value:                      1.56. Result test: False\n",
      "For feature 3, Critical Value: 1.96, t value:                      0.88. Result test: False\n",
      "For feature 4, Critical Value: 1.96, t value:     -25737615773336088.00. Result test: True\n",
      "For feature 5, Critical Value: 1.96, t value:      25737615773336088.00. Result test: True\n"
     ]
    }
   ],
   "source": [
    "# Getting t_test results.\n",
    "n = len(X_train_scaled)\n",
    "two_sided = True\n",
    "t_test_result = [t_test(estimator, des, n, len(desv), two_sided=two_sided) for des, estimator in zip(desv, estimators)]\n",
    "count = 0\n",
    "for t_test_i in t_test_result:\n",
    "    print(f'For feature {count}, Critical Value: {t_test_i[1]:.2f}, t value: {t_test_i[2]:25.2f}. Result test: {t_test_i[0]}')\n",
    "    t_test_i.append(count)\n",
    "    count += 1"
   ]
  },
  {
   "cell_type": "code",
   "execution_count": 21,
   "id": "87da68fc",
   "metadata": {},
   "outputs": [
    {
     "data": {
      "image/png": "[encoded data removed]",
      "text/plain": [
       "<Figure size 1920x640 with 1 Axes>"
      ]
     },
     "metadata": {},
     "output_type": "display_data"
    },
    {
     "name": "stdout",
     "output_type": "stream",
     "text": [
      "Considerations\n",
      "For the last two feautes the t values are so big that it's not possible to show in the graph.\n",
      "t value 4: -25737615773336088.00, Accepted\n",
      "t value 5: 25737615773336088.00, Accepted\n"
     ]
    }
   ],
   "source": [
    "# Get min-max values.\n",
    "t_i = [t_test_i[2] for t_test_i in t_test_result[:4]]\n",
    "min_t = min(t_i)\n",
    "max_t = max(t_i)\n",
    "t_i = [[t_test_i[2], t_test_i[-1]] for t_test_i in t_test_result[:4]]\n",
    "# Initializing values.\n",
    "%config InlineBackend.print_figure_kwargs = {'bbox_inches': 'tight'}\n",
    "cont = 0\n",
    "# Getting the width of the current cell (in inches).\n",
    "width_cell = plt.rcParams['figure.figsize'][0]\n",
    "# X data\n",
    "dof = t_test_result[0][-2]\n",
    "x = np.linspace(-max_t - 1, max_t + 1, N)\n",
    "y = t.pdf(x, dof)\n",
    "# Probability density function.\n",
    "plt.plot(x, y, color='purple', label=f't_test with dof: {dof}')\n",
    "plt.axvline(x=t_test_result[0][1], color='blue', linestyle='--', label=f'critical value={t_test_result[0][1]:.2f}')\n",
    "if two_sided:\n",
    "    plt.axvline(x=-t_test_result[0][1], color='blue', linestyle='--', label=f'critical value={t_test_result[0][1]:.2f}')\n",
    "for i in t_i:\n",
    "    if i[0] > t_test_result[0][1] or i[0] < -t_test_result[0][1]:\n",
    "        plt.axvline(i[0], color ='red', label=f't value{i[1]}={i[0]:6.2f}, Accepted')\n",
    "    else:\n",
    "        plt.axvline(i[0], color ='green', label=f't value{i[1]}={i[0]:6.2f}, Rejected')\n",
    "plt.gcf().set_size_inches(width_cell * 3, width_cell)\n",
    "# Show plot.\n",
    "plt.legend()\n",
    "plt.show()\n",
    "# Considerations\n",
    "print(f'Considerations')\n",
    "print(f'For the last two feautes the t values are so big that it\\'s not possible to show in the graph.')\n",
    "last_features = t_test_result[-2:]\n",
    "for feature in last_features:\n",
    "    print(f't value {feature[-1]}: {feature[2]:.2f}, Accepted')"
   ]
  }
 ],
 "metadata": {
  "kernelspec": {
   "display_name": "Python 3 (ipykernel)",
   "language": "python",
   "name": "python3"
  },
  "language_info": {
   "codemirror_mode": {
    "name": "ipython",
    "version": 3
   },
   "file_extension": ".py",
   "mimetype": "text/x-python",
   "name": "python",
   "nbconvert_exporter": "python",
   "pygments_lexer": "ipython3",
   "version": "3.11.5"
  }
 },
 "nbformat": 4,
 "nbformat_minor": 5
}
